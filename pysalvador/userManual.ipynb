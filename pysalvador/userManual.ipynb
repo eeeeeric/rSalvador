{
 "cells": [
  {
   "cell_type": "markdown",
   "metadata": {},
   "source": [
    "#  pySalvador 0.1 User Manual"
   ]
  },
  {
   "cell_type": "markdown",
   "metadata": {},
   "source": [
    "## Qi Zheng, Texas A&M University School of Public Health"
   ]
  },
  {
   "cell_type": "markdown",
   "metadata": {},
   "source": [
    "### August 14, 2020"
   ]
  },
  {
   "cell_type": "markdown",
   "metadata": {},
   "source": [
    "\n",
    "pySalvador 0.1 offers a subset of the user functions that are available in rSalvador. Python users can use pySalvador 0.1 to estimate mutation rates and their confidence intervals under three common models: the classic mutation model as defined by Lea and Coulson (1949), a modified Lea-Coulson model that allows for partial plating, and another modified model that accounts for mutant fitness.\n",
    "\n",
    "Installation of pySalvador is straightforward. Users only need to copy the Python code file `pysalvador.py` into their working directory or folder. However, the user must make sure that the standard Python pakcages `numpy` and `scipy` are pre-installed.To enhance flexibility, users may also put the Python code file pysalvador.py in a reserved directory and work from a different directory by adding the \"permanent\" pysalvador directory to the Python search path. For example, you may create a directory called `c:/pysal` as the permanent residence for pysalvador.py and then work from another directory by executing the following three Python commands:\n",
    "\n",
    "```python\n",
    "import sys\n",
    "\n",
    "sys.path.append(\"c:/pysal\")\n",
    "\n",
    "import pysalvador as sal\n",
    "```\n",
    "\n",
    "Note that pySlavador is written completely in Python, while a sizable portion of rSalvador is written in C. Not surprisingly, when the maximum of the mutant numbers is large, pySalvador is discernibly slower than rSalvador. However, in practice, the maximum of the numbers of mutants rarely exceeds 500, and hence computing speed is a nonissue for the most part. \n"
   ]
  },
  {
   "cell_type": "code",
   "execution_count": 1,
   "metadata": {},
   "outputs": [],
   "source": [
    "import numpy as np"
   ]
  },
  {
   "cell_type": "code",
   "execution_count": 2,
   "metadata": {},
   "outputs": [],
   "source": [
    "import pysalvador as sal"
   ]
  },
  {
   "cell_type": "markdown",
   "metadata": {},
   "source": [
    "## The basic model"
   ]
  },
  {
   "cell_type": "markdown",
   "metadata": {},
   "source": [
    "We now use the well-known Demerec experimental data for illustration. The data is available in pySalvador."
   ]
  },
  {
   "cell_type": "code",
   "execution_count": 3,
   "metadata": {},
   "outputs": [],
   "source": [
    "demerec=sal.demerec_data"
   ]
  },
  {
   "cell_type": "code",
   "execution_count": 4,
   "metadata": {},
   "outputs": [
    {
     "data": {
      "text/plain": [
       "array([ 33,  18, 839,  47,  13, 126,  48,  80,   9,  71, 196,  66,  28,\n",
       "        17,  27,  37, 126,  33,  12,  44,  28,  67, 730, 168,  44,  50,\n",
       "       583,  23,  17,  24])"
      ]
     },
     "execution_count": 4,
     "metadata": {},
     "output_type": "execute_result"
    }
   ],
   "source": [
    "np.transpose(demerec)"
   ]
  },
  {
   "cell_type": "markdown",
   "metadata": {},
   "source": [
    "To obtain a maximum likelihood estimate of the expected number of mutations per culture, `m`, you execute the following."
   ]
  },
  {
   "cell_type": "code",
   "execution_count": 5,
   "metadata": {},
   "outputs": [
    {
     "data": {
      "text/plain": [
       "10.843826994529076"
      ]
     },
     "execution_count": 5,
     "metadata": {},
     "output_type": "execute_result"
    }
   ],
   "source": [
    "sal.newtonLD(demerec)"
   ]
  },
  {
   "cell_type": "markdown",
   "metadata": {},
   "source": [
    "You may watch the iteration process as follows."
   ]
  },
  {
   "cell_type": "code",
   "execution_count": 6,
   "metadata": {
    "scrolled": true
   },
   "outputs": [
    {
     "name": "stdout",
     "output_type": "stream",
     "text": [
      "iteration 0 yielding ... 10.43365243358806\n",
      "iteration 1 yielding ... 10.836008869142347\n",
      "iteration 2 yielding ... 10.84382420926929\n",
      "iteration 3 yielding ... 10.84382699452872\n"
     ]
    },
    {
     "data": {
      "text/plain": [
       "10.843826994529076"
      ]
     },
     "execution_count": 6,
     "metadata": {},
     "output_type": "execute_result"
    }
   ],
   "source": [
    "sal.newtonLD(demerec, show_iter=True)"
   ]
  },
  {
   "cell_type": "markdown",
   "metadata": {},
   "source": [
    "A 95% confident interval for `m` can be obtained as follows."
   ]
  },
  {
   "cell_type": "code",
   "execution_count": 7,
   "metadata": {},
   "outputs": [
    {
     "name": "stdout",
     "output_type": "stream",
     "text": [
      "Iterating for MLE of m ... \n",
      "iteration 0 yielding ... 10.43365243358806\n",
      "iteration 1 yielding ... 10.836008869142347\n",
      "iteration 2 yielding ... 10.84382420926929\n",
      "The ML estimate of M ... 10.84382699452872\n",
      "Iterating for lower limit ... \n",
      "iteration 1 yielding 8.111284210313631\n",
      "iteration 2 yielding 8.589755779721607\n",
      "iteration 3 yielding 8.64961331736863\n",
      "iteration 4 yielding 8.650537867075073\n",
      "iteration 5 yielding 8.650538086656915\n",
      "Iterating for upper limit ... \n",
      "iteration 1 yielding 13.792796113000742\n",
      "iteration 2 yielding 13.249699907551397\n",
      "iteration 3 yielding 13.195336278319374\n",
      "iteration 4 yielding 13.194764994485423\n",
      "iteration 5 yielding 13.194764931218975\n"
     ]
    },
    {
     "data": {
      "text/plain": [
       "[8.650538086656915, 13.194764931218975]"
      ]
     },
     "execution_count": 7,
     "metadata": {},
     "output_type": "execute_result"
    }
   ],
   "source": [
    "sal.confintLD(demerec,show_iter=True)"
   ]
  },
  {
   "cell_type": "markdown",
   "metadata": {},
   "source": [
    "# Partial plating"
   ]
  },
  {
   "cell_type": "markdown",
   "metadata": {},
   "source": [
    "We use data from experiment 16 of Luria and Delbruck for illustration. The plating efficiency is known to be `0.4`."
   ]
  },
  {
   "cell_type": "code",
   "execution_count": 8,
   "metadata": {},
   "outputs": [],
   "source": [
    "luria16=sal.luria_16_data"
   ]
  },
  {
   "cell_type": "code",
   "execution_count": 9,
   "metadata": {},
   "outputs": [
    {
     "data": {
      "text/plain": [
       "[1, 0, 3, 0, 0, 5, 0, 5, 0, 6, 107, 0, 0, 0, 1, 0, 0, 64, 0, 35]"
      ]
     },
     "execution_count": 9,
     "metadata": {},
     "output_type": "execute_result"
    }
   ],
   "source": [
    "luria16"
   ]
  },
  {
   "cell_type": "code",
   "execution_count": 10,
   "metadata": {},
   "outputs": [
    {
     "name": "stdout",
     "output_type": "stream",
     "text": [
      "iterating 0 yielding ... 0.9786800956714168\n",
      "iteration 1 yielding ... 1.1513822588795282\n",
      "iteration 2 yielding ... 1.1853795628536523\n",
      "iteration 3 yielding ... 1.1863594109955076\n",
      "iteration 4 yielding ... 1.1863601798963077\n"
     ]
    },
    {
     "data": {
      "text/plain": [
       "1.1863601798967804"
      ]
     },
     "execution_count": 10,
     "metadata": {},
     "output_type": "execute_result"
    }
   ],
   "source": [
    "sal.newtonLD_plating(luria16,e=0.4,show_iter=True)"
   ]
  },
  {
   "cell_type": "code",
   "execution_count": 11,
   "metadata": {},
   "outputs": [
    {
     "name": "stdout",
     "output_type": "stream",
     "text": [
      "Iterating for MLE of m ... \n",
      "iterating 0 yielding ... 0.9786800956714168\n",
      "iteration 1 yielding ... 1.1513822588795282\n",
      "iteration 2 yielding ... 1.1853795628536523\n",
      "iteration 3 yielding ... 1.1863594109955076\n",
      "The ML estimate of m ... 1.1863601798963077\n",
      "Iterating for lower limit ... \n",
      "iteration 1 yielding 0.4538020379207553\n",
      "iteration 2 yielding 0.5564839759251468\n",
      "iteration 3 yielding 0.5793884915039808\n",
      "iteration 4 yielding 0.5803065083033123\n",
      "iteration 5 yielding 0.5803079099911408\n",
      "iteration 6 yielding 0.5803079099944009\n",
      "Iterating for upper limit ... \n",
      "iteration 1 yielding 2.3309927326178506\n",
      "iteration 2 yielding 2.105407020662717\n",
      "iteration 3 yielding 2.0908703776064157\n",
      "iteration 4 yielding 2.0908012367154507\n",
      "iteration 5 yielding 2.0908012351381497\n"
     ]
    },
    {
     "data": {
      "text/plain": [
       "[0.5803079099944009, 2.0908012351381497]"
      ]
     },
     "execution_count": 11,
     "metadata": {},
     "output_type": "execute_result"
    }
   ],
   "source": [
    "sal.confintLD_plating(luria16,e=0.4,show_iter=True)"
   ]
  },
  {
   "cell_type": "markdown",
   "metadata": {},
   "source": [
    "# Accounting for fitness"
   ]
  },
  {
   "cell_type": "markdown",
   "metadata": {},
   "source": [
    "Now assume that the mutants in Demerec's experiment had a relative fitness of `0.9`."
   ]
  },
  {
   "cell_type": "code",
   "execution_count": 12,
   "metadata": {},
   "outputs": [
    {
     "name": "stdout",
     "output_type": "stream",
     "text": [
      "iteration 0 yielding ... 11.324019619507789\n",
      "iteration 1 yielding ... 11.789785916722685\n",
      "iteration 2 yielding ... 11.79896015157053\n",
      "iteration 3 yielding ... 11.798963510600979\n"
     ]
    },
    {
     "data": {
      "text/plain": [
       "11.798963510601425"
      ]
     },
     "execution_count": 12,
     "metadata": {},
     "output_type": "execute_result"
    }
   ],
   "source": [
    "\n",
    "sal.newtonMK(demerec,w=0.9,show_iter=True)"
   ]
  },
  {
   "cell_type": "code",
   "execution_count": 13,
   "metadata": {},
   "outputs": [
    {
     "name": "stdout",
     "output_type": "stream",
     "text": [
      "Iterating for MLE of m ... \n",
      "iteration 0 yielding ... 11.324019619507789\n",
      "iteration 1 yielding ... 11.789785916722685\n",
      "iteration 2 yielding ... 11.79896015157053\n",
      "iteration 3 yielding ... 11.798963510600979\n",
      "ML estimate of m is ... 11.798963510601425\n",
      "Iterating for lower limit ... \n",
      "iteration 1 yielding 8.955669418934232\n",
      "iteration 2 yielding 9.454947881085017\n",
      "iteration 3 yielding 9.516543387925942\n",
      "iteration 4 yielding 9.517472511834637\n",
      "iteration 5 yielding 9.51747272241618\n",
      "iteration 6 yielding 9.517472722416196\n",
      "Iterating for upper limit ... \n",
      "iteration 1 yielding 14.845741030009398\n",
      "iteration 2 yielding 14.285745966207516\n",
      "iteration 3 yielding 14.22928281813281\n",
      "iteration 4 yielding 14.228681842836355\n",
      "iteration 5 yielding 14.228681774571514\n"
     ]
    },
    {
     "data": {
      "text/plain": [
       "[9.517472722416196, 14.228681774571514]"
      ]
     },
     "execution_count": 13,
     "metadata": {},
     "output_type": "execute_result"
    }
   ],
   "source": [
    "sal.confintMK(demerec,w=0.9,show_iter=True)"
   ]
  },
  {
   "cell_type": "markdown",
   "metadata": {},
   "source": [
    "# Using your own data"
   ]
  },
  {
   "cell_type": "markdown",
   "metadata": {},
   "source": [
    "pySalvador accepts mutant data as a list. Suppose you have the following 9-culture experiment. "
   ]
  },
  {
   "cell_type": "code",
   "execution_count": 14,
   "metadata": {},
   "outputs": [],
   "source": [
    "mydata=[0,16,20,2,2,56,3,161,9]"
   ]
  },
  {
   "cell_type": "code",
   "execution_count": 15,
   "metadata": {},
   "outputs": [
    {
     "data": {
      "text/plain": [
       "2.7310734581090395"
      ]
     },
     "execution_count": 15,
     "metadata": {},
     "output_type": "execute_result"
    }
   ],
   "source": [
    "sal.newtonLD(mydata)"
   ]
  },
  {
   "cell_type": "code",
   "execution_count": 16,
   "metadata": {},
   "outputs": [
    {
     "data": {
      "text/plain": [
       "[1.3853464760072198, 4.598170103420021]"
      ]
     },
     "execution_count": 16,
     "metadata": {},
     "output_type": "execute_result"
    }
   ],
   "source": [
    "sal.confintLD(mydata)"
   ]
  },
  {
   "cell_type": "code",
   "execution_count": null,
   "metadata": {},
   "outputs": [],
   "source": []
  }
 ],
 "metadata": {
  "kernelspec": {
   "display_name": "Python 3",
   "language": "python",
   "name": "python3"
  },
  "language_info": {
   "codemirror_mode": {
    "name": "ipython",
    "version": 3
   },
   "file_extension": ".py",
   "mimetype": "text/x-python",
   "name": "python",
   "nbconvert_exporter": "python",
   "pygments_lexer": "ipython3",
   "version": "3.6.8"
  }
 },
 "nbformat": 4,
 "nbformat_minor": 2
}
